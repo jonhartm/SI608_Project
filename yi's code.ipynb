{
 "cells": [
  {
   "cell_type": "markdown",
   "metadata": {},
   "source": [
    "lots of centrality analysis\n",
    "goal: comparison analysis on bots' and regular users' network, to find difference as features in the future\n",
    "\n",
    "data description: for each comments, link_id is the id of the post that the comment was made in, and parent_id is the id of the comment that the comment is responding to. Subreddit is the name of the subreddit (reddit community) that the post was posted in."
   ]
  },
  {
   "cell_type": "code",
   "execution_count": 87,
   "metadata": {},
   "outputs": [
    {
     "name": "stdout",
     "output_type": "stream",
     "text": [
      "       author  created_utc    link_id   parent_id  score       id subreddit\n",
      "0     Inshapo   1535781736  t3_9ajgfw  t1_e56nj07      1  e57777s        de\n",
      "1  haferkeks2   1535790833  t3_9ajgfw  t1_e56ncfy      1  e57bng5        de\n",
      "2      step21   1535834519  t3_9b1w1d  t1_e50sqaf      1  e58bx5b        de\n",
      "3   huetehund   1535836066  t3_9bagae  t1_e53hn9d      1  e58djnt        de\n",
      "4   [deleted]   1535795742  t3_9bagae  t1_e564if6      1  e57drbo        de\n"
     ]
    }
   ],
   "source": [
    "import pandas as pd\n",
    "user_df = pd.read_csv(\"user_comments.csv\")\n",
    "print(user_df.head())"
   ]
  },
  {
   "cell_type": "code",
   "execution_count": 88,
   "metadata": {},
   "outputs": [
    {
     "name": "stderr",
     "output_type": "stream",
     "text": [
      "/anaconda3/lib/python3.6/site-packages/IPython/core/interactiveshell.py:2785: DtypeWarning: Columns (1,4) have mixed types. Specify dtype option on import or set low_memory=False.\n",
      "  interactivity=interactivity, compiler=compiler, result=result)\n"
     ]
    }
   ],
   "source": [
    "import glob\n",
    "allFiles = glob.glob(\"bot_comments\" + \"*.csv\")\n",
    "bot_df = pd.DataFrame()\n",
    "list_ = []\n",
    "for file_ in allFiles:\n",
    "    if \"1\" in file_:\n",
    "        df = pd.read_csv(file_,index_col = None, header = None)\n",
    "    else:\n",
    "        df = pd.read_csv(file_,index_col = None, header = None)\n",
    "    list_.append(df)\n",
    "bot_df = pd.concat(list_)\n",
    "bot_df.columns = ['author', 'created_utc', 'link_id', 'parent_id', 'score', 'id','subreddit']\n",
    "bot_df = bot_df[bot_df['author'] != \"author\"]"
   ]
  },
  {
   "cell_type": "markdown",
   "metadata": {},
   "source": [
    "###### build network (regular users and bots all inside)"
   ]
  },
  {
   "cell_type": "code",
   "execution_count": 53,
   "metadata": {},
   "outputs": [],
   "source": [
    "#if user respond to a same comment, then we linked then together, build the graph\n",
    "comment_map_user = {} #comment_id, #user_name \n",
    "for index, row in user_df.iterrows():\n",
    "    comment_id = row['id']\n",
    "    comment_map_user[comment_id] = row['author']"
   ]
  },
  {
   "cell_type": "code",
   "execution_count": 54,
   "metadata": {},
   "outputs": [],
   "source": [
    "#if user respond to a same comment, then we linked then together, build the graph\n",
    "comment_map_bot = {} #comment_id, #user_name \n",
    "for index, row in bot_df.iterrows():\n",
    "    comment_id = row['id']\n",
    "    comment_map_bot[comment_id] = row['author']"
   ]
  },
  {
   "cell_type": "code",
   "execution_count": 55,
   "metadata": {},
   "outputs": [],
   "source": [
    "network_map = {} # key from user, value {key to user, value counts}\n",
    "for index, row in user_df.iterrows():\n",
    "    comment_id = row['id']\n",
    "    respond_id = row['parent_id'].split(\"_\")[1]\n",
    "    from_user = comment_map_user[comment_id]\n",
    "    if respond_id in comment_map_user:\n",
    "        to_user = comment_map_user[respond_id]\n",
    "    elif respond_id in comment_map_bot:\n",
    "        to_user = comment_map_bot[respond_id]\n",
    "    else:\n",
    "        continue\n",
    "    if from_user not in network_map:\n",
    "        network_map[from_user] = {}\n",
    "    if to_user not in network_map[from_user]:\n",
    "        network_map[from_user][to_user] = 0\n",
    "    network_map[from_user][to_user] += 1"
   ]
  },
  {
   "cell_type": "code",
   "execution_count": 56,
   "metadata": {},
   "outputs": [],
   "source": [
    "for index, row in bot_df.iterrows():\n",
    "    comment_id = row['id']\n",
    "    respond_id = row['parent_id'].split(\"_\")[1]\n",
    "    from_user = comment_map_bot[comment_id]\n",
    "    if respond_id in comment_map_user:\n",
    "        to_user = comment_map_user[respond_id]\n",
    "    elif respond_id in comment_map_bot:\n",
    "        to_user = comment_map_bot[respond_id]\n",
    "    else:\n",
    "        continue\n",
    "    if from_user not in network_map:\n",
    "        network_map[from_user] = {}\n",
    "    if to_user not in network_map[from_user]:\n",
    "        network_map[from_user][to_user] = 0\n",
    "    network_map[from_user][to_user] += 1"
   ]
  },
  {
   "cell_type": "code",
   "execution_count": 57,
   "metadata": {},
   "outputs": [],
   "source": [
    "import json\n",
    "with open('network.json', 'w') as fp:\n",
    "    json.dump(network_map, fp)"
   ]
  },
  {
   "cell_type": "code",
   "execution_count": 106,
   "metadata": {},
   "outputs": [],
   "source": [
    "import networkx as nx\n",
    "g = nx.DiGraph()\n",
    "for key, value in network_map.items():\n",
    "    from_user = key\n",
    "    for k, v in value.items():\n",
    "        to_user = k\n",
    "        weight = v\n",
    "        g.add_edge(from_user, to_user, weight = weight)"
   ]
  },
  {
   "cell_type": "code",
   "execution_count": 96,
   "metadata": {},
   "outputs": [],
   "source": [
    "user_list =  user_df['author'].unique().tolist()\n",
    "bot_list =  bot_df['author'].unique().tolist()"
   ]
  },
  {
   "cell_type": "code",
   "execution_count": 92,
   "metadata": {},
   "outputs": [],
   "source": [
    "#load network data\n",
    "import json\n",
    "with open(\"network.json\") as f_in:\n",
    "    network_map = json.load(f_in)\n",
    "f_in.close()"
   ]
  },
  {
   "cell_type": "markdown",
   "metadata": {},
   "source": [
    "##### degree for users and bots"
   ]
  },
  {
   "cell_type": "code",
   "execution_count": 107,
   "metadata": {},
   "outputs": [],
   "source": [
    "degree_all = nx.degree_centrality(g)\n",
    "degree_user = {}\n",
    "degree_bot = {}\n",
    "for k, v in degree_all.items():\n",
    "    if k in bot_list:\n",
    "        degree_bot[k] = v\n",
    "    else:\n",
    "        degree_user[k] = v"
   ]
  },
  {
   "cell_type": "code",
   "execution_count": 108,
   "metadata": {},
   "outputs": [],
   "source": [
    "import json\n",
    "with open('degree_bot.json', 'w') as fp:\n",
    "    json.dump(degree_bot, fp)\n",
    "fp.close()\n",
    "\n",
    "with open('degree_user.json', 'w') as fp:\n",
    "    json.dump(degree_user, fp)\n",
    "fp.close()"
   ]
  },
  {
   "cell_type": "markdown",
   "metadata": {},
   "source": [
    "##### visualization analysis "
   ]
  },
  {
   "cell_type": "markdown",
   "metadata": {},
   "source": [
    "###### distribution of degree centrality for users and bots"
   ]
  },
  {
   "cell_type": "code",
   "execution_count": 128,
   "metadata": {},
   "outputs": [
    {
     "data": {
      "text/plain": [
       "<matplotlib.axes._subplots.AxesSubplot at 0x154be3550>"
      ]
     },
     "execution_count": 128,
     "metadata": {},
     "output_type": "execute_result"
    },
    {
     "data": {
      "image/png": "[encoded data removed]",
      "text/plain": [
       "<matplotlib.figure.Figure at 0x154b78588>"
      ]
     },
     "metadata": {
      "needs_background": "light"
     },
     "output_type": "display_data"
    }
   ],
   "source": [
    "import seaborn as sns\n",
    "import matplotlib.pyplot as plt\n",
    "%matplotlib inline\n",
    "sns.distplot([v for v in list(degree_bot.values()) if v < 0.0002])"
   ]
  },
  {
   "cell_type": "code",
   "execution_count": 130,
   "metadata": {},
   "outputs": [
    {
     "data": {
      "text/plain": [
       "<matplotlib.axes._subplots.AxesSubplot at 0x17e0c67b8>"
      ]
     },
     "execution_count": 130,
     "metadata": {},
     "output_type": "execute_result"
    },
    {
     "data": {
      "image/png": "[encoded data removed]",
      "text/plain": [
       "<matplotlib.figure.Figure at 0x15474a550>"
      ]
     },
     "metadata": {
      "needs_background": "light"
     },
     "output_type": "display_data"
    }
   ],
   "source": [
    "import seaborn as sns\n",
    "import matplotlib.pyplot as plt\n",
    "%matplotlib inline\n",
    "sns.distplot([v for v in list(degree_user.values()) if v < 0.0002])"
   ]
  },
  {
   "cell_type": "markdown",
   "metadata": {},
   "source": [
    "##### times a user to comments and bot to comments\n",
    "##### times a user get commented and bot get commented"
   ]
  },
  {
   "cell_type": "code",
   "execution_count": 97,
   "metadata": {},
   "outputs": [],
   "source": [
    "user_to_comment = {} #key user, value times to comments\n",
    "bot_to_comment = {}\n",
    "user_get_comment = {}\n",
    "bot_get_comment = {}\n",
    "for k, v in network_map.items():\n",
    "    from_user = k\n",
    "    for key, value in v.items():\n",
    "        to_user = key\n",
    "        times = value\n",
    "        if from_user in bot_list:\n",
    "            if from_user not in bot_to_comment:\n",
    "                bot_to_comment[from_user] = 0\n",
    "            bot_to_comment[from_user] += times\n",
    "        else:\n",
    "            if from_user not in user_to_comment:\n",
    "                user_to_comment[from_user] = 0\n",
    "            user_to_comment[from_user] += times\n",
    "        if to_user in bot_list:\n",
    "            if to_user not in bot_get_comment:\n",
    "                bot_get_comment[to_user] = 0\n",
    "            bot_get_comment[to_user] += times\n",
    "        else:\n",
    "            if to_user not in user_get_comment:\n",
    "                user_get_comment[to_user] = 0\n",
    "            user_get_comment[to_user] += times"
   ]
  },
  {
   "cell_type": "code",
   "execution_count": 98,
   "metadata": {},
   "outputs": [],
   "source": [
    "import json\n",
    "with open('user_get_comment.json', 'w') as fp:\n",
    "    json.dump(user_get_comment, fp)\n",
    "fp.close()\n",
    "\n",
    "with open('user_to_comment.json', 'w') as fp:\n",
    "    json.dump(user_to_comment, fp)\n",
    "fp.close()\n",
    "\n",
    "with open('bot_get_comment.json', 'w') as fp:\n",
    "    json.dump(bot_get_comment, fp)\n",
    "fp.close()\n",
    "\n",
    "with open('bot_to_comment.json', 'w') as fp:\n",
    "    json.dump(bot_to_comment, fp)\n",
    "fp.close()"
   ]
  },
  {
   "cell_type": "code",
   "execution_count": 122,
   "metadata": {},
   "outputs": [
    {
     "data": {
      "text/plain": [
       "<matplotlib.axes._subplots.AxesSubplot at 0x15489a438>"
      ]
     },
     "execution_count": 122,
     "metadata": {},
     "output_type": "execute_result"
    },
    {
     "data": {
      "image/png": "[encoded data removed]",
      "text/plain": [
       "<matplotlib.figure.Figure at 0x152ffa828>"
      ]
     },
     "metadata": {
      "needs_background": "light"
     },
     "output_type": "display_data"
    }
   ],
   "source": [
    "import seaborn as sns\n",
    "import matplotlib.pyplot as plt\n",
    "%matplotlib inline\n",
    "sns.distplot([v for v in list(user_get_comment.values()) if v < 20])"
   ]
  },
  {
   "cell_type": "code",
   "execution_count": 123,
   "metadata": {},
   "outputs": [
    {
     "data": {
      "text/plain": [
       "<matplotlib.axes._subplots.AxesSubplot at 0x154e3d5f8>"
      ]
     },
     "execution_count": 123,
     "metadata": {},
     "output_type": "execute_result"
    },
    {
     "data": {
      "image/png": "[encoded data removed]",
      "text/plain": [
       "<matplotlib.figure.Figure at 0x154e7bf98>"
      ]
     },
     "metadata": {
      "needs_background": "light"
     },
     "output_type": "display_data"
    }
   ],
   "source": [
    "import seaborn as sns\n",
    "import matplotlib.pyplot as plt\n",
    "%matplotlib inline\n",
    "sns.distplot([v for v in list(bot_get_comment.values()) if v < 20])"
   ]
  },
  {
   "cell_type": "code",
   "execution_count": 124,
   "metadata": {},
   "outputs": [
    {
     "data": {
      "text/plain": [
       "<matplotlib.axes._subplots.AxesSubplot at 0x154a62c18>"
      ]
     },
     "execution_count": 124,
     "metadata": {},
     "output_type": "execute_result"
    },
    {
     "data": {
      "image/png": "[encoded data removed]",
      "text/plain": [
       "<matplotlib.figure.Figure at 0x154891cf8>"
      ]
     },
     "metadata": {
      "needs_background": "light"
     },
     "output_type": "display_data"
    }
   ],
   "source": [
    "import seaborn as sns\n",
    "import matplotlib.pyplot as plt\n",
    "%matplotlib inline\n",
    "sns.distplot([v for v in list(user_to_comment.values()) if v < 20])"
   ]
  },
  {
   "cell_type": "code",
   "execution_count": 125,
   "metadata": {},
   "outputs": [
    {
     "data": {
      "text/plain": [
       "<matplotlib.axes._subplots.AxesSubplot at 0x154f23ef0>"
      ]
     },
     "execution_count": 125,
     "metadata": {},
     "output_type": "execute_result"
    },
    {
     "data": {
      "image/png": "[encoded data removed]",
      "text/plain": [
       "<matplotlib.figure.Figure at 0x154e009b0>"
      ]
     },
     "metadata": {
      "needs_background": "light"
     },
     "output_type": "display_data"
    }
   ],
   "source": [
    "import seaborn as sns\n",
    "import matplotlib.pyplot as plt\n",
    "%matplotlib inline\n",
    "sns.distplot([v for v in list(bot_to_comment.values()) if v < 20])"
   ]
  },
  {
   "cell_type": "code",
   "execution_count": null,
   "metadata": {},
   "outputs": [],
   "source": []
  }
 ],
 "metadata": {
  "kernelspec": {
   "display_name": "Python 3",
   "language": "python",
   "name": "python3"
  },
  "language_info": {
   "codemirror_mode": {
    "name": "ipython",
    "version": 3
   },
   "file_extension": ".py",
   "mimetype": "text/x-python",
   "name": "python",
   "nbconvert_exporter": "python",
   "pygments_lexer": "ipython3",
   "version": "3.6.4"
  }
 },
 "nbformat": 4,
 "nbformat_minor": 2
}
