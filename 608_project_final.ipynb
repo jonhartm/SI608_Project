{
 "cells": [
  {
   "cell_type": "markdown",
   "metadata": {},
   "source": [
    "# SI608 Final Project\n",
    "## Predicting bots from reddit comments\n",
    "Ben Sadis, Jonathan Hartman, Akio Kakishima, Yi Xiao"
   ]
  },
  {
   "cell_type": "code",
   "execution_count": 2,
   "metadata": {},
   "outputs": [],
   "source": [
    "import warnings\n",
    "warnings.filterwarnings('ignore')"
   ]
  },
  {
   "cell_type": "code",
   "execution_count": 11,
   "metadata": {},
   "outputs": [],
   "source": [
    "import math, glob, json\n",
    "\n",
    "import pandas as pd\n",
    "import numpy as np\n",
    "import scipy as sc\n",
    "\n",
    "import networkx as nx\n",
    "\n",
    "import seaborn as sns\n",
    "import matplotlib.pyplot as plt\n",
    "\n",
    "import sklearn.svm as svm\n",
    "from sklearn.model_selection import train_test_split\n",
    "from sklearn.preprocessing import StandardScaler\n",
    "from sklearn.ensemble import RandomForestClassifier"
   ]
  },
  {
   "cell_type": "markdown",
   "metadata": {},
   "source": [
    "## Initial Data Loading"
   ]
  },
  {
   "cell_type": "markdown",
   "metadata": {},
   "source": [
    "Here is a link to the Google Drive directory where the data is stored:\n",
    "\n",
    "https://drive.google.com/drive/u/0/folders/1YnVF6bu0awdfZ5zQEOZRr8JB9sxl39kH?ogsrc=32\n",
    "\n",
    "In order to run this notebook, the data must be downloaded and placed in the same location as the notebook."
   ]
  },
  {
   "cell_type": "code",
   "execution_count": 4,
   "metadata": {},
   "outputs": [
    {
     "data": {
      "text/html": [
       "<div>\n",
       "<style scoped>\n",
       "    .dataframe tbody tr th:only-of-type {\n",
       "        vertical-align: middle;\n",
       "    }\n",
       "\n",
       "    .dataframe tbody tr th {\n",
       "        vertical-align: top;\n",
       "    }\n",
       "\n",
       "    .dataframe thead th {\n",
       "        text-align: right;\n",
       "    }\n",
       "</style>\n",
       "<table border=\"1\" class=\"dataframe\">\n",
       "  <thead>\n",
       "    <tr style=\"text-align: right;\">\n",
       "      <th></th>\n",
       "      <th>author</th>\n",
       "      <th>created_utc</th>\n",
       "      <th>link_id</th>\n",
       "      <th>parent_id</th>\n",
       "      <th>score</th>\n",
       "      <th>id</th>\n",
       "      <th>subreddit</th>\n",
       "    </tr>\n",
       "  </thead>\n",
       "  <tbody>\n",
       "    <tr>\n",
       "      <th>0</th>\n",
       "      <td>Inshapo</td>\n",
       "      <td>1535781736</td>\n",
       "      <td>t3_9ajgfw</td>\n",
       "      <td>t1_e56nj07</td>\n",
       "      <td>1</td>\n",
       "      <td>e57777s</td>\n",
       "      <td>de</td>\n",
       "    </tr>\n",
       "    <tr>\n",
       "      <th>1</th>\n",
       "      <td>haferkeks2</td>\n",
       "      <td>1535790833</td>\n",
       "      <td>t3_9ajgfw</td>\n",
       "      <td>t1_e56ncfy</td>\n",
       "      <td>1</td>\n",
       "      <td>e57bng5</td>\n",
       "      <td>de</td>\n",
       "    </tr>\n",
       "  </tbody>\n",
       "</table>\n",
       "</div>"
      ],
      "text/plain": [
       "       author  created_utc    link_id   parent_id  score       id subreddit\n",
       "0     Inshapo   1535781736  t3_9ajgfw  t1_e56nj07      1  e57777s        de\n",
       "1  haferkeks2   1535790833  t3_9ajgfw  t1_e56ncfy      1  e57bng5        de"
      ]
     },
     "execution_count": 4,
     "metadata": {},
     "output_type": "execute_result"
    }
   ],
   "source": [
    "user_df = pd.read_csv(\"user_comments.csv\")\n",
    "user_df.head(2)"
   ]
  },
  {
   "cell_type": "code",
   "execution_count": 6,
   "metadata": {},
   "outputs": [
    {
     "name": "stdout",
     "output_type": "stream",
     "text": [
      "unique authors: 630674\n"
     ]
    }
   ],
   "source": [
    "print(\"unique authors:\", len(user_df.author.unique()))"
   ]
  },
  {
   "cell_type": "markdown",
   "metadata": {},
   "source": [
    "Big Query Exported a series of csvs. Merge them together"
   ]
  },
  {
   "cell_type": "code",
   "execution_count": 8,
   "metadata": {},
   "outputs": [
    {
     "data": {
      "text/html": [
       "<div>\n",
       "<style scoped>\n",
       "    .dataframe tbody tr th:only-of-type {\n",
       "        vertical-align: middle;\n",
       "    }\n",
       "\n",
       "    .dataframe tbody tr th {\n",
       "        vertical-align: top;\n",
       "    }\n",
       "\n",
       "    .dataframe thead th {\n",
       "        text-align: right;\n",
       "    }\n",
       "</style>\n",
       "<table border=\"1\" class=\"dataframe\">\n",
       "  <thead>\n",
       "    <tr style=\"text-align: right;\">\n",
       "      <th></th>\n",
       "      <th>author</th>\n",
       "      <th>created_utc</th>\n",
       "      <th>link_id</th>\n",
       "      <th>parent_id</th>\n",
       "      <th>score</th>\n",
       "      <th>id</th>\n",
       "      <th>subreddit</th>\n",
       "    </tr>\n",
       "  </thead>\n",
       "  <tbody>\n",
       "    <tr>\n",
       "      <th>1</th>\n",
       "      <td>AutoModerator</td>\n",
       "      <td>1540927338</td>\n",
       "      <td>t3_9sr4gj</td>\n",
       "      <td>t3_9sr4gj</td>\n",
       "      <td>1</td>\n",
       "      <td>e8qs619</td>\n",
       "      <td>Twitch_Startup</td>\n",
       "    </tr>\n",
       "    <tr>\n",
       "      <th>2</th>\n",
       "      <td>eat-sleep-fortnite</td>\n",
       "      <td>1540927355</td>\n",
       "      <td>t3_9sqje9</td>\n",
       "      <td>t1_e8qrhby</td>\n",
       "      <td>-4</td>\n",
       "      <td>e8qs6tr</td>\n",
       "      <td>unturned</td>\n",
       "    </tr>\n",
       "  </tbody>\n",
       "</table>\n",
       "</div>"
      ],
      "text/plain": [
       "               author created_utc    link_id   parent_id score       id  \\\n",
       "1       AutoModerator  1540927338  t3_9sr4gj   t3_9sr4gj     1  e8qs619   \n",
       "2  eat-sleep-fortnite  1540927355  t3_9sqje9  t1_e8qrhby    -4  e8qs6tr   \n",
       "\n",
       "        subreddit  \n",
       "1  Twitch_Startup  \n",
       "2        unturned  "
      ]
     },
     "execution_count": 8,
     "metadata": {},
     "output_type": "execute_result"
    }
   ],
   "source": [
    "allFiles = [f for f in glob.glob(\"bot_comments\" + \"*.csv\") if \"text\" not in f]\n",
    "bot_df = pd.DataFrame()\n",
    "list_ = []\n",
    "for file_ in allFiles:\n",
    "    if \"1\" in file_:\n",
    "        df = pd.read_csv(file_,index_col = None, header = None)\n",
    "    else:\n",
    "        df = pd.read_csv(file_,index_col = None, header = None)\n",
    "    list_.append(df)\n",
    "bot_df = pd.concat(list_)\n",
    "bot_df.columns = ['author', 'created_utc', 'link_id', 'parent_id', 'score', 'id','subreddit']\n",
    "bot_df = bot_df[bot_df['author'] != \"author\"]\n",
    "bot_df.head(2)"
   ]
  },
  {
   "cell_type": "markdown",
   "metadata": {},
   "source": [
    "## Build the network"
   ]
  },
  {
   "cell_type": "code",
   "execution_count": 13,
   "metadata": {},
   "outputs": [
    {
     "name": "stdout",
     "output_type": "stream",
     "text": [
      "Wall time: 22min 26s\n"
     ]
    }
   ],
   "source": [
    "%%time\n",
    "#if user respond to a same comment, then we linked then together, build the graph\n",
    "comment_map_user = {} #comment_id, #user_name \n",
    "for index, row in user_df.iterrows():\n",
    "    comment_id = row['id']\n",
    "    comment_map_user[comment_id] = row['author']\n",
    "\n",
    "#if bot respond to a same comment, then we linked then together, build the graph\n",
    "comment_map_bot = {} #comment_id, #user_name \n",
    "for index, row in bot_df.iterrows():\n",
    "    comment_id = row['id']\n",
    "    comment_map_bot[comment_id] = row['author']\n",
    "    \n",
    "network_map = {} # key from user, value {key to user, value counts}\n",
    "for index, row in user_df.iterrows():\n",
    "    comment_id = row['id']\n",
    "    respond_id = row['parent_id'].split(\"_\")[1]\n",
    "    from_user = comment_map_user[comment_id]\n",
    "    if respond_id in comment_map_user:\n",
    "        to_user = comment_map_user[respond_id]\n",
    "    elif respond_id in comment_map_bot:\n",
    "        to_user = comment_map_bot[respond_id]\n",
    "    else:\n",
    "        continue\n",
    "    if from_user not in network_map:\n",
    "        network_map[from_user] = {}\n",
    "    if to_user not in network_map[from_user]:\n",
    "        network_map[from_user][to_user] = 0\n",
    "    network_map[from_user][to_user] += 1\n",
    "    \n",
    "for index, row in bot_df.iterrows():\n",
    "    comment_id = row['id']\n",
    "    respond_id = row['parent_id'].split(\"_\")[1]\n",
    "    from_user = comment_map_bot[comment_id]\n",
    "    if respond_id in comment_map_user:\n",
    "        to_user = comment_map_user[respond_id]\n",
    "    elif respond_id in comment_map_bot:\n",
    "        to_user = comment_map_bot[respond_id]\n",
    "    else:\n",
    "        continue\n",
    "    if from_user not in network_map:\n",
    "        network_map[from_user] = {}\n",
    "    if to_user not in network_map[from_user]:\n",
    "        network_map[from_user][to_user] = 0\n",
    "    network_map[from_user][to_user] += 1"
   ]
  },
  {
   "cell_type": "code",
   "execution_count": 14,
   "metadata": {},
   "outputs": [],
   "source": [
    "# save the network to a json file so we only have to build it once\n",
    "with open('network.json', 'w') as fp:\n",
    "    json.dump(network_map, fp)"
   ]
  },
  {
   "cell_type": "code",
   "execution_count": 15,
   "metadata": {},
   "outputs": [],
   "source": [
    "# load the network file\n",
    "with open(\"network.json\") as f_in:\n",
    "    network_map = json.load(f_in)"
   ]
  },
  {
   "cell_type": "markdown",
   "metadata": {},
   "source": [
    "Load the network into NetworkX"
   ]
  },
  {
   "cell_type": "code",
   "execution_count": 16,
   "metadata": {},
   "outputs": [],
   "source": [
    "g = nx.DiGraph()\n",
    "for key, value in network_map.items():\n",
    "    from_user = key\n",
    "    for k, v in value.items():\n",
    "        to_user = k\n",
    "        weight = v\n",
    "        g.add_edge(from_user, to_user, weight = weight)"
   ]
  },
  {
   "cell_type": "markdown",
   "metadata": {},
   "source": [
    "## Network Feature Extraction"
   ]
  },
  {
   "cell_type": "markdown",
   "metadata": {},
   "source": [
    "### Get Overall Graph Statistics"
   ]
  },
  {
   "cell_type": "code",
   "execution_count": 18,
   "metadata": {},
   "outputs": [
    {
     "name": "stdout",
     "output_type": "stream",
     "text": [
      "Wall time: 39.5 s\n"
     ]
    }
   ],
   "source": [
    "%%time\n",
    "# pull these up now so we can just pull nodes from them as we get them\n",
    "g_degree_centrality = nx.degree_centrality(g)\n",
    "g_in_degree_centrality = nx.in_degree_centrality(g)\n",
    "g_out_degree_centrality = nx.out_degree_centrality(g)\n",
    "g_avg_neighbor_degree = nx.average_neighbor_degree(g)\n",
    "g_pagerank = nx.pagerank(g)"
   ]
  },
  {
   "cell_type": "markdown",
   "metadata": {},
   "source": [
    "### Function to Get Individual Node Measures"
   ]
  },
  {
   "cell_type": "code",
   "execution_count": 19,
   "metadata": {},
   "outputs": [],
   "source": [
    "def get_node_stats(node, triads=False):\n",
    "    r = {}\n",
    "    r['degree'] = g.degree[node]\n",
    "    \n",
    "    # get the ego graph for this node\n",
    "    radius = 3\n",
    "    if r['degree'] > 200:\n",
    "        radius = 2\n",
    "    ego = nx.ego_graph(g, node, radius=radius)\n",
    "    \n",
    "    # save this node's name\n",
    "    r['node'] = node\n",
    "    \n",
    "    r['avg_clustering'] = nx.average_clustering(nx.Graph(ego))\n",
    "    r['ego_density'] = nx.density(ego)\n",
    "    \n",
    "    # edge measures\n",
    "    r['avg_neighbor_degree'] = g_avg_neighbor_degree[node]\n",
    "    in_edges = g.in_edges(node, data=True)\n",
    "    out_edges = g.out_edges(node, data=True)\n",
    "    r['in_degree'] = len(in_edges)\n",
    "    r['out_degree'] = len(out_edges)\n",
    "    r['sum_in_edge_weight'] = sum([edge[2]['weight'] for edge in in_edges])\n",
    "    r['sum_out_edge_weight'] = sum([edge[2]['weight'] for edge in out_edges])\n",
    "    r['avg_in_edge_weight'] = np.mean([edge[2]['weight'] for edge in in_edges])\n",
    "    r['avg_out_edge_weight'] = np.mean([edge[2]['weight'] for edge in out_edges])\n",
    "    \n",
    "    if len(ego) > 1:\n",
    "        r['reciprocity'] = nx.reciprocity(nx.ego_graph(g, node))\n",
    "    else:\n",
    "        r['reciprocity'] = 0\n",
    "    \n",
    "    # centrality\n",
    "    r['degree_centrality'] = g_degree_centrality[node]\n",
    "    r['in_degree_centrality'] = g_in_degree_centrality[node]\n",
    "    r['out_degree_centrality'] = g_out_degree_centrality[node]\n",
    "    \n",
    "    r['pagerank'] = g_pagerank[node]\n",
    "    \n",
    "    if not triads:\n",
    "        return r\n",
    "    \n",
    "    # get just this user and it's neighbors\n",
    "    ego = nx.ego_graph(g, node, radius=1)\n",
    "    \n",
    "    # triad counts/ratios\n",
    "    triads = nx.triadic_census(ego)\n",
    "    s = max(sum(triads.values()),1)\n",
    "    triad_ratios = {str(k)+\"_ratio\":v/s for (k,v) in triads.items()}\n",
    "    \n",
    "    return {**r, **triads, **triad_ratios}"
   ]
  },
  {
   "cell_type": "code",
   "execution_count": 23,
   "metadata": {},
   "outputs": [
    {
     "data": {
      "text/html": [
       "<div>\n",
       "<style scoped>\n",
       "    .dataframe tbody tr th:only-of-type {\n",
       "        vertical-align: middle;\n",
       "    }\n",
       "\n",
       "    .dataframe tbody tr th {\n",
       "        vertical-align: top;\n",
       "    }\n",
       "\n",
       "    .dataframe thead th {\n",
       "        text-align: right;\n",
       "    }\n",
       "</style>\n",
       "<table border=\"1\" class=\"dataframe\">\n",
       "  <thead>\n",
       "    <tr style=\"text-align: right;\">\n",
       "      <th></th>\n",
       "      <th>author</th>\n",
       "      <th>created_utc</th>\n",
       "      <th>link_id</th>\n",
       "      <th>parent_id</th>\n",
       "      <th>score</th>\n",
       "      <th>id</th>\n",
       "      <th>subreddit</th>\n",
       "    </tr>\n",
       "  </thead>\n",
       "  <tbody>\n",
       "    <tr>\n",
       "      <th>307713</th>\n",
       "      <td>AutoModerator</td>\n",
       "      <td>1540896762</td>\n",
       "      <td>t3_9smqop</td>\n",
       "      <td>t3_9smqop</td>\n",
       "      <td>2</td>\n",
       "      <td>e8puw89</td>\n",
       "      <td>hentai_irl</td>\n",
       "    </tr>\n",
       "    <tr>\n",
       "      <th>379177</th>\n",
       "      <td>AutoModerator</td>\n",
       "      <td>1538576194</td>\n",
       "      <td>t3_9l1jwq</td>\n",
       "      <td>t3_9l1jwq</td>\n",
       "      <td>1</td>\n",
       "      <td>e73a57f</td>\n",
       "      <td>unpopularopinion</td>\n",
       "    </tr>\n",
       "    <tr>\n",
       "      <th>129578</th>\n",
       "      <td>xfile345</td>\n",
       "      <td>1540761344</td>\n",
       "      <td>t3_9s52uy</td>\n",
       "      <td>t1_e8milzk</td>\n",
       "      <td>1</td>\n",
       "      <td>e8minjh</td>\n",
       "      <td>NASCAR</td>\n",
       "    </tr>\n",
       "    <tr>\n",
       "      <th>390549</th>\n",
       "      <td>_KanyeWest_</td>\n",
       "      <td>1538479262</td>\n",
       "      <td>t3_9ko7q4</td>\n",
       "      <td>t1_e70q3qc</td>\n",
       "      <td>69</td>\n",
       "      <td>e70szrf</td>\n",
       "      <td>xboxone</td>\n",
       "    </tr>\n",
       "    <tr>\n",
       "      <th>154745</th>\n",
       "      <td>AutoModerator</td>\n",
       "      <td>1539907260</td>\n",
       "      <td>t3_9peo05</td>\n",
       "      <td>t3_9peo05</td>\n",
       "      <td>2</td>\n",
       "      <td>e815q1t</td>\n",
       "      <td>DestinyFashion</td>\n",
       "    </tr>\n",
       "  </tbody>\n",
       "</table>\n",
       "</div>"
      ],
      "text/plain": [
       "               author created_utc    link_id   parent_id score       id  \\\n",
       "307713  AutoModerator  1540896762  t3_9smqop   t3_9smqop     2  e8puw89   \n",
       "379177  AutoModerator  1538576194  t3_9l1jwq   t3_9l1jwq     1  e73a57f   \n",
       "129578       xfile345  1540761344  t3_9s52uy  t1_e8milzk     1  e8minjh   \n",
       "390549    _KanyeWest_  1538479262  t3_9ko7q4  t1_e70q3qc    69  e70szrf   \n",
       "154745  AutoModerator  1539907260  t3_9peo05   t3_9peo05     2  e815q1t   \n",
       "\n",
       "               subreddit  \n",
       "307713        hentai_irl  \n",
       "379177  unpopularopinion  \n",
       "129578            NASCAR  \n",
       "390549           xboxone  \n",
       "154745    DestinyFashion  "
      ]
     },
     "execution_count": 23,
     "metadata": {},
     "output_type": "execute_result"
    }
   ],
   "source": [
    "# combine them in a single df\n",
    "combined_df = pd.concat([bot_df,user_df])"
   ]
  },
  {
   "cell_type": "code",
   "execution_count": 24,
   "metadata": {},
   "outputs": [],
   "source": [
    "filename = \"node_measures.csv\"\n",
    "\n",
    "# In case we had to stop partway, load what we banked so we can avoid calculating those nodes again\n",
    "try:\n",
    "    already_calc = pd.read_csv(filename)\n",
    "    already_calc.set_index('node', inplace=True)\n",
    "except:\n",
    "    print(\"Can't find a file named\",filename)\n",
    "    already_calc = pd.DataFrame()"
   ]
  },
  {
   "cell_type": "markdown",
   "metadata": {},
   "source": [
    "### Iterate through all the unique user names and calculate their network statistics"
   ]
  },
  {
   "cell_type": "code",
   "execution_count": null,
   "metadata": {},
   "outputs": [],
   "source": [
    "%%time\n",
    "# get a list of all the bot usernames\n",
    "bot_list = bot_df.author.unique()\n",
    "\n",
    "total_count = len(combined_df.author.unique())\n",
    "count = 0\n",
    "results = []\n",
    "start = time.time()\n",
    "not_skipping = False\n",
    "for user in combined_df.author.unique():\n",
    "    try:\n",
    "        if not user in already_calc.index:\n",
    "            results.append({\n",
    "                **get_node_stats(user, triads=True),\n",
    "                **{'bot':(0,1)[user in bot_list]}\n",
    "            })\n",
    "            not_skipping = True\n",
    "        count += 1\n",
    "    except Exception as e:\n",
    "#         print(\"Exception: node {}: {}\".format(user, e))\n",
    "        pass\n",
    "    \n",
    "    if count % 10000 == 0 and not_skipping:\n",
    "        print(\"{} of {} ({:.4f} s/row)\".format(count, total_count, (time.time()-start)/10000))\n",
    "        start = time.time()\n",
    "        \n",
    "        if os.path.isfile(filename):\n",
    "            pd.DataFrame(results).to_csv(filename, mode='a', header=False, index=None)\n",
    "        else:\n",
    "            pd.DataFrame(results).to_csv(filename, index=None)\n",
    "        \n",
    "        results = []\n",
    "        "
   ]
  },
  {
   "cell_type": "markdown",
   "metadata": {},
   "source": [
    "## Text Feature Extraction"
   ]
  },
  {
   "cell_type": "markdown",
   "metadata": {},
   "source": [
    "Load in the Comment Data Sets"
   ]
  },
  {
   "cell_type": "code",
   "execution_count": 25,
   "metadata": {},
   "outputs": [
    {
     "data": {
      "text/html": [
       "<div>\n",
       "<style scoped>\n",
       "    .dataframe tbody tr th:only-of-type {\n",
       "        vertical-align: middle;\n",
       "    }\n",
       "\n",
       "    .dataframe tbody tr th {\n",
       "        vertical-align: top;\n",
       "    }\n",
       "\n",
       "    .dataframe thead th {\n",
       "        text-align: right;\n",
       "    }\n",
       "</style>\n",
       "<table border=\"1\" class=\"dataframe\">\n",
       "  <thead>\n",
       "    <tr style=\"text-align: right;\">\n",
       "      <th></th>\n",
       "      <th>body</th>\n",
       "      <th>author</th>\n",
       "      <th>created_utc</th>\n",
       "      <th>link_id</th>\n",
       "      <th>parent_id</th>\n",
       "      <th>score</th>\n",
       "      <th>id</th>\n",
       "      <th>subreddit</th>\n",
       "      <th>is_bot</th>\n",
       "    </tr>\n",
       "  </thead>\n",
       "  <tbody>\n",
       "    <tr>\n",
       "      <th>159596</th>\n",
       "      <td>**PLEASE READ THIS MESSAGE IN ITS ENTIRETY BEF...</td>\n",
       "      <td>AutoModerator</td>\n",
       "      <td>1540794692</td>\n",
       "      <td>t3_9saps3</td>\n",
       "      <td>t3_9saps3</td>\n",
       "      <td>1</td>\n",
       "      <td>e8nez4z</td>\n",
       "      <td>AskReddit</td>\n",
       "      <td>1</td>\n",
       "    </tr>\n",
       "    <tr>\n",
       "      <th>191309</th>\n",
       "      <td>*Image Transcription: Reddit*\\n\\n---\\n\\n&amp;gt;**...</td>\n",
       "      <td>Vinccool96</td>\n",
       "      <td>1540498494</td>\n",
       "      <td>t3_9rdfx1</td>\n",
       "      <td>t3_9rdfx1</td>\n",
       "      <td>1</td>\n",
       "      <td>e8g3q72</td>\n",
       "      <td>iamverybadass</td>\n",
       "      <td>1</td>\n",
       "    </tr>\n",
       "    <tr>\n",
       "      <th>8312</th>\n",
       "      <td>**Direct link**: https://www.chron.com/sports/...</td>\n",
       "      <td>amp-is-watching-you</td>\n",
       "      <td>1539016494</td>\n",
       "      <td>t3_9mc959</td>\n",
       "      <td>t1_e7ee2sa</td>\n",
       "      <td>2</td>\n",
       "      <td>e7ee43r</td>\n",
       "      <td>HumansBeingBros</td>\n",
       "      <td>1</td>\n",
       "    </tr>\n",
       "  </tbody>\n",
       "</table>\n",
       "</div>"
      ],
      "text/plain": [
       "                                                     body  \\\n",
       "159596  **PLEASE READ THIS MESSAGE IN ITS ENTIRETY BEF...   \n",
       "191309  *Image Transcription: Reddit*\\n\\n---\\n\\n&gt;**...   \n",
       "8312    **Direct link**: https://www.chron.com/sports/...   \n",
       "\n",
       "                     author  created_utc    link_id   parent_id  score  \\\n",
       "159596        AutoModerator   1540794692  t3_9saps3   t3_9saps3      1   \n",
       "191309           Vinccool96   1540498494  t3_9rdfx1   t3_9rdfx1      1   \n",
       "8312    amp-is-watching-you   1539016494  t3_9mc959  t1_e7ee2sa      2   \n",
       "\n",
       "             id        subreddit  is_bot  \n",
       "159596  e8nez4z        AskReddit       1  \n",
       "191309  e8g3q72    iamverybadass       1  \n",
       "8312    e7ee43r  HumansBeingBros       1  "
      ]
     },
     "execution_count": 25,
     "metadata": {},
     "output_type": "execute_result"
    }
   ],
   "source": [
    "bot_comments = pd.read_csv(\"bot_comments_text.csv\")\n",
    "bot_comments['is_bot'] = 1\n",
    "bot_comments.sample(3)"
   ]
  },
  {
   "cell_type": "code",
   "execution_count": 26,
   "metadata": {},
   "outputs": [
    {
     "data": {
      "text/html": [
       "<div>\n",
       "<style scoped>\n",
       "    .dataframe tbody tr th:only-of-type {\n",
       "        vertical-align: middle;\n",
       "    }\n",
       "\n",
       "    .dataframe tbody tr th {\n",
       "        vertical-align: top;\n",
       "    }\n",
       "\n",
       "    .dataframe thead th {\n",
       "        text-align: right;\n",
       "    }\n",
       "</style>\n",
       "<table border=\"1\" class=\"dataframe\">\n",
       "  <thead>\n",
       "    <tr style=\"text-align: right;\">\n",
       "      <th></th>\n",
       "      <th>body</th>\n",
       "      <th>author</th>\n",
       "      <th>created_utc</th>\n",
       "      <th>link_id</th>\n",
       "      <th>parent_id</th>\n",
       "      <th>score</th>\n",
       "      <th>id</th>\n",
       "      <th>subreddit</th>\n",
       "      <th>is_bot</th>\n",
       "    </tr>\n",
       "  </thead>\n",
       "  <tbody>\n",
       "    <tr>\n",
       "      <th>671085</th>\n",
       "      <td>don't you think its a coincidence there are 3 ...</td>\n",
       "      <td>Spirit_43</td>\n",
       "      <td>1540890632</td>\n",
       "      <td>t3_9sm5bd</td>\n",
       "      <td>t3_9sm5bd</td>\n",
       "      <td>3</td>\n",
       "      <td>e8prv9r</td>\n",
       "      <td>Showerthoughts</td>\n",
       "      <td>0</td>\n",
       "    </tr>\n",
       "    <tr>\n",
       "      <th>67291</th>\n",
       "      <td>Ditto.</td>\n",
       "      <td>Celtic_Crown</td>\n",
       "      <td>1539311126</td>\n",
       "      <td>t3_9ng16e</td>\n",
       "      <td>t1_e7m1jsr</td>\n",
       "      <td>3</td>\n",
       "      <td>e7m48gv</td>\n",
       "      <td>RWBY</td>\n",
       "      <td>0</td>\n",
       "    </tr>\n",
       "    <tr>\n",
       "      <th>681760</th>\n",
       "      <td>Considering the economic embargo placed on it,...</td>\n",
       "      <td>Dissidentt</td>\n",
       "      <td>1539624024</td>\n",
       "      <td>t3_9nnonv</td>\n",
       "      <td>t1_e7t9t0q</td>\n",
       "      <td>1</td>\n",
       "      <td>e7tgkib</td>\n",
       "      <td>canada</td>\n",
       "      <td>0</td>\n",
       "    </tr>\n",
       "  </tbody>\n",
       "</table>\n",
       "</div>"
      ],
      "text/plain": [
       "                                                     body        author  \\\n",
       "671085  don't you think its a coincidence there are 3 ...     Spirit_43   \n",
       "67291                                              Ditto.  Celtic_Crown   \n",
       "681760  Considering the economic embargo placed on it,...    Dissidentt   \n",
       "\n",
       "        created_utc    link_id   parent_id  score       id       subreddit  \\\n",
       "671085   1540890632  t3_9sm5bd   t3_9sm5bd      3  e8prv9r  Showerthoughts   \n",
       "67291    1539311126  t3_9ng16e  t1_e7m1jsr      3  e7m48gv            RWBY   \n",
       "681760   1539624024  t3_9nnonv  t1_e7t9t0q      1  e7tgkib          canada   \n",
       "\n",
       "        is_bot  \n",
       "671085       0  \n",
       "67291        0  \n",
       "681760       0  "
      ]
     },
     "execution_count": 26,
     "metadata": {},
     "output_type": "execute_result"
    }
   ],
   "source": [
    "user_comments = pd.read_csv(\"user_comments_text.csv\")\n",
    "user_comments['is_bot'] = 0\n",
    "user_comments.sample(3)"
   ]
  },
  {
   "cell_type": "markdown",
   "metadata": {},
   "source": [
    "Merge the data sets"
   ]
  },
  {
   "cell_type": "code",
   "execution_count": 27,
   "metadata": {},
   "outputs": [],
   "source": [
    "combined_comments = pd.concat([user_comments, bot_comments])"
   ]
  },
  {
   "cell_type": "markdown",
   "metadata": {},
   "source": [
    "Remove anything incorrectly tagged as a bot after a manual curation of the dataset\n",
    "\n",
    "*(Each member ran 'bot_labelling.py' individually)*"
   ]
  },
  {
   "cell_type": "code",
   "execution_count": 28,
   "metadata": {},
   "outputs": [],
   "source": [
    "manual_labels = pd.concat([\n",
    "    pd.read_csv(\"jon_results.csv\"),\n",
    "    pd.read_csv(\"ben_results.csv\"),\n",
    "    pd.read_csv(\"akio_results.csv\"),\n",
    "    pd.read_csv(\"yi_results.csv\"),\n",
    "])\n",
    "\n",
    "combined_comments.loc[\n",
    "    ~combined_comments.author.isin(\n",
    "        manual_labels[manual_labels.label.notnull()].user.values\n",
    "    ), 'is_bot'] = 0"
   ]
  },
  {
   "cell_type": "markdown",
   "metadata": {},
   "source": [
    "## Calculate Per Comment Features"
   ]
  },
  {
   "cell_type": "code",
   "execution_count": 29,
   "metadata": {},
   "outputs": [],
   "source": [
    "# convert the time_posted column to a datetime\n",
    "combined_comments['time_posted'] = pd.to_datetime(combined_comments.created_utc, unit='s')\n",
    "# extract the hour and minute from the time_posted\n",
    "combined_comments['hour'] = combined_comments.time_posted.dt.hour\n",
    "combined_comments['minute'] = combined_comments.time_posted.dt.minute\n",
    "# get the number of words in each\n",
    "combined_comments['num_words'] = combined_comments.body.apply(str).apply(str.split).apply(len)"
   ]
  },
  {
   "cell_type": "code",
   "execution_count": 88,
   "metadata": {},
   "outputs": [
    {
     "data": {
      "text/html": [
       "<div>\n",
       "<style scoped>\n",
       "    .dataframe tbody tr th:only-of-type {\n",
       "        vertical-align: middle;\n",
       "    }\n",
       "\n",
       "    .dataframe tbody tr th {\n",
       "        vertical-align: top;\n",
       "    }\n",
       "\n",
       "    .dataframe thead th {\n",
       "        text-align: right;\n",
       "    }\n",
       "</style>\n",
       "<table border=\"1\" class=\"dataframe\">\n",
       "  <thead>\n",
       "    <tr style=\"text-align: right;\">\n",
       "      <th></th>\n",
       "      <th>body</th>\n",
       "      <th>author</th>\n",
       "      <th>created_utc</th>\n",
       "      <th>link_id</th>\n",
       "      <th>parent_id</th>\n",
       "      <th>score</th>\n",
       "      <th>id</th>\n",
       "      <th>subreddit</th>\n",
       "      <th>is_bot</th>\n",
       "      <th>time_posted</th>\n",
       "      <th>hour</th>\n",
       "      <th>minute</th>\n",
       "      <th>num_words</th>\n",
       "    </tr>\n",
       "  </thead>\n",
       "  <tbody>\n",
       "    <tr>\n",
       "      <th>157095</th>\n",
       "      <td>\\n*300 MemeCoins invested @ 84 upvotes*\\n\\nUPD...</td>\n",
       "      <td>MemeInvestor_bot</td>\n",
       "      <td>1539376963</td>\n",
       "      <td>t3_9nnf39</td>\n",
       "      <td>t1_e7nor7a</td>\n",
       "      <td>1</td>\n",
       "      <td>e7nornu</td>\n",
       "      <td>MemeEconomy</td>\n",
       "      <td>1</td>\n",
       "      <td>2018-10-12 20:42:43</td>\n",
       "      <td>20</td>\n",
       "      <td>42</td>\n",
       "      <td>33</td>\n",
       "    </tr>\n",
       "    <tr>\n",
       "      <th>260772</th>\n",
       "      <td>Sad day for JRPGs</td>\n",
       "      <td>sunjay140</td>\n",
       "      <td>1540240295</td>\n",
       "      <td>t3_9qhfqa</td>\n",
       "      <td>t3_9qhfqa</td>\n",
       "      <td>-47</td>\n",
       "      <td>e899gwx</td>\n",
       "      <td>JRPG</td>\n",
       "      <td>0</td>\n",
       "      <td>2018-10-22 20:31:35</td>\n",
       "      <td>20</td>\n",
       "      <td>31</td>\n",
       "      <td>4</td>\n",
       "    </tr>\n",
       "    <tr>\n",
       "      <th>728305</th>\n",
       "      <td>\"I'm doing it for teh children!\" Don't believe...</td>\n",
       "      <td>Drunken_Pineapple</td>\n",
       "      <td>1539367154</td>\n",
       "      <td>t3_9nillj</td>\n",
       "      <td>t1_e7ncx2t</td>\n",
       "      <td>5</td>\n",
       "      <td>e7nd95e</td>\n",
       "      <td>antiMLM</td>\n",
       "      <td>0</td>\n",
       "      <td>2018-10-12 17:59:14</td>\n",
       "      <td>17</td>\n",
       "      <td>59</td>\n",
       "      <td>21</td>\n",
       "    </tr>\n",
       "  </tbody>\n",
       "</table>\n",
       "</div>"
      ],
      "text/plain": [
       "                                                     body             author  \\\n",
       "157095  \\n*300 MemeCoins invested @ 84 upvotes*\\n\\nUPD...   MemeInvestor_bot   \n",
       "260772                                  Sad day for JRPGs          sunjay140   \n",
       "728305  \"I'm doing it for teh children!\" Don't believe...  Drunken_Pineapple   \n",
       "\n",
       "        created_utc    link_id   parent_id  score       id    subreddit  \\\n",
       "157095   1539376963  t3_9nnf39  t1_e7nor7a      1  e7nornu  MemeEconomy   \n",
       "260772   1540240295  t3_9qhfqa   t3_9qhfqa    -47  e899gwx         JRPG   \n",
       "728305   1539367154  t3_9nillj  t1_e7ncx2t      5  e7nd95e      antiMLM   \n",
       "\n",
       "        is_bot         time_posted  hour  minute  num_words  \n",
       "157095       1 2018-10-12 20:42:43    20      42         33  \n",
       "260772       0 2018-10-22 20:31:35    20      31          4  \n",
       "728305       0 2018-10-12 17:59:14    17      59         21  "
      ]
     },
     "execution_count": 88,
     "metadata": {},
     "output_type": "execute_result"
    }
   ],
   "source": [
    "combined_comments.sample(3)"
   ]
  },
  {
   "cell_type": "markdown",
   "metadata": {},
   "source": [
    "## Aggregate comment features by user"
   ]
  },
  {
   "cell_type": "code",
   "execution_count": 31,
   "metadata": {},
   "outputs": [
    {
     "name": "stdout",
     "output_type": "stream",
     "text": [
      "Wall time: 4.22 s\n"
     ]
    }
   ],
   "source": [
    "%%time\n",
    "# group the fields we just calculated by author\n",
    "by_user = pd.concat(\n",
    "    [\n",
    "        combined_comments.groupby('author').size(),\n",
    "        combined_comments.groupby('author').score.mean(),\n",
    "        combined_comments.groupby('author').minute.std(),\n",
    "        combined_comments.groupby('author').num_words.std(),\n",
    "        combined_comments.groupby('author').subreddit.nunique(),\n",
    "        combined_comments.groupby('author').is_bot.max()\n",
    "    ]\n",
    ", axis=1)\n",
    "# rename the columns to reflect the aggregate operations\n",
    "by_user.columns = ['num_comments','mean_score', 'std_minute', 'std_num_words', 'num_unique_subs', 'is_bot']\n",
    "# calculated new columns based on aggregated columns\n",
    "by_user['unique_subs_per_comment'] = by_user.num_unique_subs / by_user.num_comments"
   ]
  },
  {
   "cell_type": "code",
   "execution_count": 32,
   "metadata": {},
   "outputs": [
    {
     "data": {
      "text/html": [
       "<div>\n",
       "<style scoped>\n",
       "    .dataframe tbody tr th:only-of-type {\n",
       "        vertical-align: middle;\n",
       "    }\n",
       "\n",
       "    .dataframe tbody tr th {\n",
       "        vertical-align: top;\n",
       "    }\n",
       "\n",
       "    .dataframe thead th {\n",
       "        text-align: right;\n",
       "    }\n",
       "</style>\n",
       "<table border=\"1\" class=\"dataframe\">\n",
       "  <thead>\n",
       "    <tr style=\"text-align: right;\">\n",
       "      <th></th>\n",
       "      <th>num_comments</th>\n",
       "      <th>mean_score</th>\n",
       "      <th>std_minute</th>\n",
       "      <th>std_num_words</th>\n",
       "      <th>num_unique_subs</th>\n",
       "      <th>is_bot</th>\n",
       "      <th>unique_subs_per_comment</th>\n",
       "    </tr>\n",
       "    <tr>\n",
       "      <th>author</th>\n",
       "      <th></th>\n",
       "      <th></th>\n",
       "      <th></th>\n",
       "      <th></th>\n",
       "      <th></th>\n",
       "      <th></th>\n",
       "      <th></th>\n",
       "    </tr>\n",
       "  </thead>\n",
       "  <tbody>\n",
       "    <tr>\n",
       "      <th>PM_nudes4_rating_pls</th>\n",
       "      <td>70</td>\n",
       "      <td>5.085714</td>\n",
       "      <td>18.822198</td>\n",
       "      <td>4.931917</td>\n",
       "      <td>26</td>\n",
       "      <td>0</td>\n",
       "      <td>0.371429</td>\n",
       "    </tr>\n",
       "    <tr>\n",
       "      <th>GhostBruh420</th>\n",
       "      <td>66</td>\n",
       "      <td>10.484848</td>\n",
       "      <td>16.656631</td>\n",
       "      <td>44.703918</td>\n",
       "      <td>7</td>\n",
       "      <td>0</td>\n",
       "      <td>0.106061</td>\n",
       "    </tr>\n",
       "    <tr>\n",
       "      <th>brandonsmash</th>\n",
       "      <td>71</td>\n",
       "      <td>1.957746</td>\n",
       "      <td>17.410131</td>\n",
       "      <td>53.680765</td>\n",
       "      <td>6</td>\n",
       "      <td>0</td>\n",
       "      <td>0.084507</td>\n",
       "    </tr>\n",
       "  </tbody>\n",
       "</table>\n",
       "</div>"
      ],
      "text/plain": [
       "                      num_comments  mean_score  std_minute  std_num_words  \\\n",
       "author                                                                      \n",
       "PM_nudes4_rating_pls            70    5.085714   18.822198       4.931917   \n",
       "GhostBruh420                    66   10.484848   16.656631      44.703918   \n",
       "brandonsmash                    71    1.957746   17.410131      53.680765   \n",
       "\n",
       "                      num_unique_subs  is_bot  unique_subs_per_comment  \n",
       "author                                                                  \n",
       "PM_nudes4_rating_pls               26       0                 0.371429  \n",
       "GhostBruh420                        7       0                 0.106061  \n",
       "brandonsmash                        6       0                 0.084507  "
      ]
     },
     "execution_count": 32,
     "metadata": {},
     "output_type": "execute_result"
    }
   ],
   "source": [
    "by_user.sample(3)"
   ]
  },
  {
   "cell_type": "code",
   "execution_count": 33,
   "metadata": {},
   "outputs": [
    {
     "data": {
      "text/plain": [
       "Text(0.5,1,'Standard Deviation of Minute Posted - Users vs Bots')"
      ]
     },
     "execution_count": 33,
     "metadata": {},
     "output_type": "execute_result"
    },
    {
     "data": {
      "image/png": "[encoded data removed]",
      "text/plain": [
       "<Figure size 720x360 with 1 Axes>"
      ]
     },
     "metadata": {},
     "output_type": "display_data"
    }
   ],
   "source": [
    "fig, ax = plt.subplots(figsize=(10, 5))\n",
    "\n",
    "sns.distplot(by_user.query(\"num_comments > 15 & is_bot == 1\").std_minute, ax=ax, label=\"Bot\", hist=False)\n",
    "sns.distplot(by_user.query(\"num_comments > 15 & is_bot == 0\").std_minute, ax=ax, label=\"User\")\n",
    "\n",
    "x_mean = by_user.std_minute.mean()\n",
    "plt.xlim((x_mean-10, x_mean+10))\n",
    "\n",
    "plt.xlabel(\"Standard Deviation of The Minute Posted\")\n",
    "\n",
    "ax.legend()\n",
    "plt.title(\"Standard Deviation of Minute Posted - Users vs Bots\")"
   ]
  },
  {
   "cell_type": "markdown",
   "metadata": {},
   "source": [
    "## Machine Learning"
   ]
  },
  {
   "cell_type": "markdown",
   "metadata": {},
   "source": [
    "Load in the network measures we calculated using the get_network_feats notebook"
   ]
  },
  {
   "cell_type": "code",
   "execution_count": 60,
   "metadata": {},
   "outputs": [
    {
     "name": "stdout",
     "output_type": "stream",
     "text": [
      "Wall time: 4.18 s\n"
     ]
    }
   ],
   "source": [
    "%%time\n",
    "network_measures = pd.read_csv(\"node_measures.csv\")\n",
    "network_measures.set_index(\"node\", inplace=True)\n",
    "\n",
    "# these measures are causing issues\n",
    "network_measures.drop(['avg_in_edge_weight', 'avg_out_edge_weight', 'bot'], axis=1, inplace=True)\n",
    "# drop the triad counts - they don't seem to be relevant to anything\n",
    "network_measures.drop([c for c in network_measures.columns[:32] if \"ratio\" not in c], axis=1, inplace=True)"
   ]
  },
  {
   "cell_type": "code",
   "execution_count": 96,
   "metadata": {},
   "outputs": [
    {
     "data": {
      "text/html": [
       "<div>\n",
       "<style scoped>\n",
       "    .dataframe tbody tr th:only-of-type {\n",
       "        vertical-align: middle;\n",
       "    }\n",
       "\n",
       "    .dataframe tbody tr th {\n",
       "        vertical-align: top;\n",
       "    }\n",
       "\n",
       "    .dataframe thead th {\n",
       "        text-align: right;\n",
       "    }\n",
       "</style>\n",
       "<table border=\"1\" class=\"dataframe\">\n",
       "  <thead>\n",
       "    <tr style=\"text-align: right;\">\n",
       "      <th></th>\n",
       "      <th>003_ratio</th>\n",
       "      <th>012_ratio</th>\n",
       "      <th>021C_ratio</th>\n",
       "      <th>021D_ratio</th>\n",
       "      <th>021U_ratio</th>\n",
       "      <th>030C_ratio</th>\n",
       "      <th>030T_ratio</th>\n",
       "      <th>102_ratio</th>\n",
       "      <th>111D_ratio</th>\n",
       "      <th>111U_ratio</th>\n",
       "      <th>...</th>\n",
       "      <th>degree_centrality</th>\n",
       "      <th>ego_density</th>\n",
       "      <th>in_degree</th>\n",
       "      <th>in_degree_centrality</th>\n",
       "      <th>out_degree</th>\n",
       "      <th>out_degree_centrality</th>\n",
       "      <th>pagerank</th>\n",
       "      <th>reciprocity</th>\n",
       "      <th>sum_in_edge_weight</th>\n",
       "      <th>sum_out_edge_weight</th>\n",
       "    </tr>\n",
       "    <tr>\n",
       "      <th>node</th>\n",
       "      <th></th>\n",
       "      <th></th>\n",
       "      <th></th>\n",
       "      <th></th>\n",
       "      <th></th>\n",
       "      <th></th>\n",
       "      <th></th>\n",
       "      <th></th>\n",
       "      <th></th>\n",
       "      <th></th>\n",
       "      <th></th>\n",
       "      <th></th>\n",
       "      <th></th>\n",
       "      <th></th>\n",
       "      <th></th>\n",
       "      <th></th>\n",
       "      <th></th>\n",
       "      <th></th>\n",
       "      <th></th>\n",
       "      <th></th>\n",
       "      <th></th>\n",
       "    </tr>\n",
       "  </thead>\n",
       "  <tbody>\n",
       "    <tr>\n",
       "      <th>Sailans</th>\n",
       "      <td>0.000000</td>\n",
       "      <td>0.0</td>\n",
       "      <td>0.0</td>\n",
       "      <td>1.000000</td>\n",
       "      <td>0.0</td>\n",
       "      <td>0.0</td>\n",
       "      <td>0.0</td>\n",
       "      <td>0.0</td>\n",
       "      <td>0.0</td>\n",
       "      <td>0.000000</td>\n",
       "      <td>...</td>\n",
       "      <td>0.000005</td>\n",
       "      <td>0.044828</td>\n",
       "      <td>0</td>\n",
       "      <td>0.000000</td>\n",
       "      <td>2</td>\n",
       "      <td>0.000005</td>\n",
       "      <td>6.421734e-07</td>\n",
       "      <td>0.000000</td>\n",
       "      <td>0</td>\n",
       "      <td>2</td>\n",
       "    </tr>\n",
       "    <tr>\n",
       "      <th>TheOGB8ter</th>\n",
       "      <td>0.666667</td>\n",
       "      <td>0.0</td>\n",
       "      <td>0.0</td>\n",
       "      <td>0.178571</td>\n",
       "      <td>0.0</td>\n",
       "      <td>0.0</td>\n",
       "      <td>0.0</td>\n",
       "      <td>0.0</td>\n",
       "      <td>0.0</td>\n",
       "      <td>0.142857</td>\n",
       "      <td>...</td>\n",
       "      <td>0.000039</td>\n",
       "      <td>0.004563</td>\n",
       "      <td>8</td>\n",
       "      <td>0.000018</td>\n",
       "      <td>9</td>\n",
       "      <td>0.000021</td>\n",
       "      <td>4.439253e-06</td>\n",
       "      <td>0.333333</td>\n",
       "      <td>14</td>\n",
       "      <td>11</td>\n",
       "    </tr>\n",
       "  </tbody>\n",
       "</table>\n",
       "<p>2 rows × 29 columns</p>\n",
       "</div>"
      ],
      "text/plain": [
       "            003_ratio  012_ratio  021C_ratio  021D_ratio  021U_ratio  \\\n",
       "node                                                                   \n",
       "Sailans      0.000000        0.0         0.0    1.000000         0.0   \n",
       "TheOGB8ter   0.666667        0.0         0.0    0.178571         0.0   \n",
       "\n",
       "            030C_ratio  030T_ratio  102_ratio  111D_ratio  111U_ratio  \\\n",
       "node                                                                    \n",
       "Sailans            0.0         0.0        0.0         0.0    0.000000   \n",
       "TheOGB8ter         0.0         0.0        0.0         0.0    0.142857   \n",
       "\n",
       "                   ...           degree_centrality  ego_density  in_degree  \\\n",
       "node               ...                                                       \n",
       "Sailans            ...                    0.000005     0.044828          0   \n",
       "TheOGB8ter         ...                    0.000039     0.004563          8   \n",
       "\n",
       "            in_degree_centrality  out_degree  out_degree_centrality  \\\n",
       "node                                                                  \n",
       "Sailans                 0.000000           2               0.000005   \n",
       "TheOGB8ter              0.000018           9               0.000021   \n",
       "\n",
       "                pagerank  reciprocity  sum_in_edge_weight  sum_out_edge_weight  \n",
       "node                                                                            \n",
       "Sailans     6.421734e-07     0.000000                   0                    2  \n",
       "TheOGB8ter  4.439253e-06     0.333333                  14                   11  \n",
       "\n",
       "[2 rows x 29 columns]"
      ]
     },
     "execution_count": 96,
     "metadata": {},
     "output_type": "execute_result"
    }
   ],
   "source": [
    "network_measures.sample(2)"
   ]
  },
  {
   "cell_type": "markdown",
   "metadata": {},
   "source": [
    "Merge the text measures and the network measures into a single dataframe"
   ]
  },
  {
   "cell_type": "code",
   "execution_count": 69,
   "metadata": {},
   "outputs": [],
   "source": [
    "data = pd.merge(by_user, \n",
    "                network_measures, \n",
    "                left_index=True, right_index=True)\n",
    "\n",
    "# only use users with sufficient data\n",
    "data = data.query(\"num_comments >= 15\")\n",
    "\n",
    "# remove any duplicate information we collected somehow (affects 42 rows)\n",
    "data = data[data.index.isin(data.index.drop_duplicates())].copy()\n",
    "\n",
    "# save the bot labels and column names so we can get them back after the scalar\n",
    "bot_labels = data.is_bot\n",
    "cols = data.columns\n",
    "\n",
    "# run a scalar on the data\n",
    "scaler = StandardScaler()\n",
    "data = pd.DataFrame(\n",
    "    scaler.fit_transform(data), \n",
    "    index=data.index,\n",
    "    columns=cols\n",
    ")\n",
    "# reassign the bot labels\n",
    "data.is_bot = bot_labels"
   ]
  },
  {
   "cell_type": "markdown",
   "metadata": {},
   "source": [
    "## Hyperparameter Testing Functions"
   ]
  },
  {
   "cell_type": "code",
   "execution_count": 37,
   "metadata": {},
   "outputs": [],
   "source": [
    "# data (REQUIRED) is dataset that includes all columns and labels\n",
    "# column_list is list of columns to use as features\n",
    "# - if all columns are desired don't pass in a parameter\n",
    "# label_column (REQUIRED) is the column in the dataset that is the labels\n",
    "# num_runs is the number of times to run each parameter setting\n",
    "def run_SVC(data = [], column_list=[], label_column='', num_runs=10, verbose=False):\n",
    "    if len(data) == 0 or label_column == '':\n",
    "        print(\"You need to give me a dataset and a label column name\")\n",
    "        return\n",
    "    if len(column_list) == 0:\n",
    "        column_list = data.columns[data.columns != label_column]\n",
    "    Cs = [1, 3, 5, 7]\n",
    "    gammas = [0.001, 0.0001, 0.0003, 0.0007, 0.0005]\n",
    "    C_array = []\n",
    "    gamma_array = []\n",
    "    sens_array = []\n",
    "    spec_array = []\n",
    "    for i in range(num_runs):\n",
    "        if verbose: print(\"i: \" + str(i))\n",
    "        train, test = train_test_split(data, test_size = 0.3)\n",
    "        for C in Cs:\n",
    "            for gamma in gammas:\n",
    "                if verbose: print(\"C: \" + str(C))\n",
    "                if verbose: print(\"gamma: \" + str(gamma))\n",
    "                clf = svm.SVC(kernel='linear', class_weight='balanced', C=C, gamma=gamma)\n",
    "                clf.fit(train.loc[:,column_list], train[label_column])\n",
    "                pred = clf.predict(test.loc[:,column_list])\n",
    "                labels = pd.DataFrame(test[label_column])\n",
    "                labels[\"pred\"] = pred\n",
    "                sens = len(labels.query(\"is_bot == 1 and pred == 1\")) / len(labels.query(\"is_bot == 1\"))\n",
    "                spec = len(labels.query(\"is_bot == 0 and pred == 0\")) / len(labels.query(\"is_bot == 0\"))\n",
    "                if verbose: print(sens)\n",
    "                if verbose: print(spec)\n",
    "                C_array.append(C)\n",
    "                gamma_array.append(gamma)\n",
    "                sens_array.append(sens)\n",
    "                spec_array.append(spec)\n",
    "    row_dict = {'C': C_array, 'gamma': gamma_array, 'sens': sens_array, 'spec': spec_array}\n",
    "    row_df = pd.DataFrame(row_dict)\n",
    "    row_df['acc'] = (row_df.sens + row_df.spec) / 2\n",
    "    row_df = row_df.groupby(['C', 'gamma'], as_index=True).agg('mean')\n",
    "    return(row_df)"
   ]
  },
  {
   "cell_type": "code",
   "execution_count": 38,
   "metadata": {},
   "outputs": [],
   "source": [
    "# data (REQUIRED) is dataset that includes all columns and labels\n",
    "# column_list is list of columns to use as features\n",
    "# - if all columns are desired don't pass in a parameter\n",
    "# label_column (REQUIRED) is the column in the dataset that is the labels\n",
    "# num_runs is the number of times to run each parameter setting\n",
    "def run_rf(data = [], column_list=[], label_column='', num_runs=10, verbose=False):\n",
    "    if len(data) == 0 or label_column == '':\n",
    "        print(\"You need to give me a dataset and a label column name\")\n",
    "        return\n",
    "    if len(column_list) == 0:\n",
    "        column_list = data.columns[data.columns != label_column]\n",
    "    num_features = len(column_list)\n",
    "    trees = [2, 10, 100]\n",
    "    n_feats = [math.ceil(num_features / 10), math.ceil(num_features / 5), \n",
    "               math.ceil(num_features / 2), math.ceil(num_features / 1)]\n",
    "    tree_array = []\n",
    "    feat_array = []\n",
    "    sens_array = []\n",
    "    spec_array = []\n",
    "    for i in range(num_runs):\n",
    "        if verbose: print(\"i: \" + str(i))\n",
    "        train, test = train_test_split(data, test_size = 0.3)\n",
    "        for tree in trees:\n",
    "            for feat in n_feats:\n",
    "                if verbose: print(\"trees: \" + str(tree))\n",
    "                if verbose: print(\"n_feats: \" + str(feat))\n",
    "                clf = RandomForestClassifier(class_weight='balanced', n_estimators=tree, max_features=feat)\n",
    "                clf.fit(train.loc[:,column_list], train[label_column])\n",
    "                pred = clf.predict(test.loc[:,column_list])\n",
    "                labels = pd.DataFrame(test[label_column])\n",
    "                labels[\"pred\"] = pred\n",
    "                sens = len(labels.query(\"is_bot == 1 and pred == 1\")) / len(labels.query(\"is_bot == 1\"))\n",
    "                spec = len(labels.query(\"is_bot == 0 and pred == 0\")) / len(labels.query(\"is_bot == 0\"))\n",
    "                if verbose: print(sens)\n",
    "                if verbose: print(spec)\n",
    "                tree_array.append(tree)\n",
    "                feat_array.append(feat)\n",
    "                sens_array.append(sens)\n",
    "                spec_array.append(spec)\n",
    "    row_dict = {'trees': tree_array, 'n_feats': feat_array, 'sens': sens_array, 'spec': spec_array}\n",
    "    row_df = pd.DataFrame(row_dict)\n",
    "    row_df['acc'] = (row_df.sens + row_df.spec) / 2\n",
    "    row_df = row_df.groupby(['trees', 'n_feats'], as_index=True).agg('mean')\n",
    "    return(row_df)"
   ]
  },
  {
   "cell_type": "markdown",
   "metadata": {},
   "source": [
    "### SVC Testing for text only features, network only features, and combined features"
   ]
  },
  {
   "cell_type": "code",
   "execution_count": null,
   "metadata": {},
   "outputs": [],
   "source": [
    "%%time\n",
    "run_SVC(\n",
    "    data = data, \n",
    "    column_list = ['num_comments', 'mean_score', 'std_minute', 'std_num_words','num_unique_subs', 'unique_subs_per_comment'],\n",
    "    label_column = 'is_bot', \n",
    "    num_runs = 100).to_csv(\"svc_results_text.csv\")"
   ]
  },
  {
   "cell_type": "code",
   "execution_count": null,
   "metadata": {},
   "outputs": [],
   "source": [
    "%%time\n",
    "run_SVC(\n",
    "    data = data, \n",
    "    column_list = network_measures.columns.values,\n",
    "    label_column = 'is_bot', \n",
    "    num_runs = 100).to_csv(\"svc_results_network.csv\")"
   ]
  },
  {
   "cell_type": "code",
   "execution_count": null,
   "metadata": {},
   "outputs": [],
   "source": [
    "%%time\n",
    "run_SVC(\n",
    "    data = data, \n",
    "    label_column = 'is_bot', \n",
    "    num_runs = 100).to_csv(\"svc_results_combined.csv\")"
   ]
  },
  {
   "cell_type": "markdown",
   "metadata": {},
   "source": [
    "### Random Forest Testing for text only features, network only features, and combined features"
   ]
  },
  {
   "cell_type": "code",
   "execution_count": null,
   "metadata": {},
   "outputs": [],
   "source": [
    "%%time\n",
    "run_rf(\n",
    "    data = data, \n",
    "    column_list = ['num_comments', 'mean_score', 'std_minute', 'std_num_words','num_unique_subs', 'unique_subs_per_comment'],\n",
    "    label_column = 'is_bot', \n",
    "    num_runs = 100).to_csv(\"rf_results_text.csv\")"
   ]
  },
  {
   "cell_type": "code",
   "execution_count": null,
   "metadata": {},
   "outputs": [],
   "source": [
    "%%time\n",
    "run_rf(\n",
    "    data = data, \n",
    "    column_list = network_measures.columns.values,\n",
    "    label_column = 'is_bot', \n",
    "    num_runs = 100).to_csv(\"rf_results_network.csv\")"
   ]
  },
  {
   "cell_type": "code",
   "execution_count": null,
   "metadata": {},
   "outputs": [],
   "source": [
    "%%time\n",
    "run_rf(\n",
    "    data = data, \n",
    "    label_column = 'is_bot', \n",
    "    num_runs = 100).to_csv(\"rf_results_combined.csv\")"
   ]
  },
  {
   "cell_type": "markdown",
   "metadata": {},
   "source": [
    "## Find the most important features using a random forest classifier"
   ]
  },
  {
   "cell_type": "code",
   "execution_count": 81,
   "metadata": {},
   "outputs": [],
   "source": [
    "def find_important(data):\n",
    "    # split the data into training and test sets\n",
    "    train, test = train_test_split(data, test_size = 0.3)\n",
    "\n",
    "    # identify the label column and the feature columns\n",
    "    label_column = 'is_bot'\n",
    "    column_list = [x for x in data.columns if x not in [label_column]]\n",
    "\n",
    "    # run the classifier\n",
    "    clf = RandomForestClassifier(class_weight='balanced', n_estimators=100, max_features=35)\n",
    "    clf.fit(train.loc[:,column_list], train[label_column])\n",
    "    \n",
    "    return clf.feature_importances_"
   ]
  },
  {
   "cell_type": "code",
   "execution_count": null,
   "metadata": {},
   "outputs": [],
   "source": [
    "%%time\n",
    "results = []\n",
    "for x in range(10):\n",
    "    results.append(find_important(data))"
   ]
  },
  {
   "cell_type": "code",
   "execution_count": null,
   "metadata": {},
   "outputs": [],
   "source": [
    "pd.DataFrame(results, columns=[x for x in data.columns if x not in ['is_bot']]).mean().sort_values(ascending=False).head(20)"
   ]
  },
  {
   "cell_type": "code",
   "execution_count": null,
   "metadata": {},
   "outputs": [],
   "source": []
  }
 ],
 "metadata": {
  "kernelspec": {
   "display_name": "Python [default]",
   "language": "python",
   "name": "python3"
  },
  "language_info": {
   "codemirror_mode": {
    "name": "ipython",
    "version": 3
   },
   "file_extension": ".py",
   "mimetype": "text/x-python",
   "name": "python",
   "nbconvert_exporter": "python",
   "pygments_lexer": "ipython3",
   "version": "3.6.5"
  }
 },
 "nbformat": 4,
 "nbformat_minor": 2
}
